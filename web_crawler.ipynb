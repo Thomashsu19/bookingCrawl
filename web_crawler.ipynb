{
 "cells": [
  {
   "cell_type": "code",
   "execution_count": 36,
   "metadata": {},
   "outputs": [
    {
     "name": "stdout",
     "output_type": "stream",
     "text": [
      "<class 'pandas.core.frame.DataFrame'>\n",
      "RangeIndex: 24 entries, 0 to 23\n",
      "Data columns (total 6 columns):\n",
      " #   Column    Non-Null Count  Dtype \n",
      "---  ------    --------------  ----- \n",
      " 0   name      24 non-null     object\n",
      " 1   address   24 non-null     object\n",
      " 2   distance  24 non-null     object\n",
      " 3   rating    24 non-null     object\n",
      " 4   comment   24 non-null     object\n",
      " 5   price     24 non-null     object\n",
      "dtypes: object(6)\n",
      "memory usage: 1.2+ KB\n",
      "None\n",
      "<class 'pandas.core.frame.DataFrame'>\n",
      "RangeIndex: 49 entries, 0 to 48\n",
      "Data columns (total 6 columns):\n",
      " #   Column    Non-Null Count  Dtype \n",
      "---  ------    --------------  ----- \n",
      " 0   name      49 non-null     object\n",
      " 1   address   49 non-null     object\n",
      " 2   distance  49 non-null     object\n",
      " 3   rating    49 non-null     object\n",
      " 4   comment   49 non-null     object\n",
      " 5   price     49 non-null     object\n",
      "dtypes: object(6)\n",
      "memory usage: 2.4+ KB\n",
      "None\n",
      "<class 'pandas.core.frame.DataFrame'>\n",
      "RangeIndex: 74 entries, 0 to 73\n",
      "Data columns (total 6 columns):\n",
      " #   Column    Non-Null Count  Dtype \n",
      "---  ------    --------------  ----- \n",
      " 0   name      74 non-null     object\n",
      " 1   address   74 non-null     object\n",
      " 2   distance  74 non-null     object\n",
      " 3   rating    74 non-null     object\n",
      " 4   comment   74 non-null     object\n",
      " 5   price     74 non-null     object\n",
      "dtypes: object(6)\n",
      "memory usage: 3.6+ KB\n",
      "None\n",
      "<class 'pandas.core.frame.DataFrame'>\n",
      "RangeIndex: 99 entries, 0 to 98\n",
      "Data columns (total 6 columns):\n",
      " #   Column    Non-Null Count  Dtype \n",
      "---  ------    --------------  ----- \n",
      " 0   name      99 non-null     object\n",
      " 1   address   99 non-null     object\n",
      " 2   distance  99 non-null     object\n",
      " 3   rating    99 non-null     object\n",
      " 4   comment   99 non-null     object\n",
      " 5   price     99 non-null     object\n",
      "dtypes: object(6)\n",
      "memory usage: 4.8+ KB\n",
      "None\n",
      "<class 'pandas.core.frame.DataFrame'>\n",
      "RangeIndex: 124 entries, 0 to 123\n",
      "Data columns (total 6 columns):\n",
      " #   Column    Non-Null Count  Dtype \n",
      "---  ------    --------------  ----- \n",
      " 0   name      124 non-null    object\n",
      " 1   address   124 non-null    object\n",
      " 2   distance  124 non-null    object\n",
      " 3   rating    124 non-null    object\n",
      " 4   comment   124 non-null    object\n",
      " 5   price     124 non-null    object\n",
      "dtypes: object(6)\n",
      "memory usage: 5.9+ KB\n",
      "None\n",
      "<class 'pandas.core.frame.DataFrame'>\n",
      "RangeIndex: 149 entries, 0 to 148\n",
      "Data columns (total 6 columns):\n",
      " #   Column    Non-Null Count  Dtype \n",
      "---  ------    --------------  ----- \n",
      " 0   name      149 non-null    object\n",
      " 1   address   149 non-null    object\n",
      " 2   distance  149 non-null    object\n",
      " 3   rating    149 non-null    object\n",
      " 4   comment   149 non-null    object\n",
      " 5   price     149 non-null    object\n",
      "dtypes: object(6)\n",
      "memory usage: 7.1+ KB\n",
      "None\n",
      "<class 'pandas.core.frame.DataFrame'>\n",
      "RangeIndex: 174 entries, 0 to 173\n",
      "Data columns (total 6 columns):\n",
      " #   Column    Non-Null Count  Dtype \n",
      "---  ------    --------------  ----- \n",
      " 0   name      174 non-null    object\n",
      " 1   address   174 non-null    object\n",
      " 2   distance  174 non-null    object\n",
      " 3   rating    174 non-null    object\n",
      " 4   comment   174 non-null    object\n",
      " 5   price     174 non-null    object\n",
      "dtypes: object(6)\n",
      "memory usage: 8.3+ KB\n",
      "None\n",
      "<class 'pandas.core.frame.DataFrame'>\n",
      "RangeIndex: 199 entries, 0 to 198\n",
      "Data columns (total 6 columns):\n",
      " #   Column    Non-Null Count  Dtype \n",
      "---  ------    --------------  ----- \n",
      " 0   name      199 non-null    object\n",
      " 1   address   199 non-null    object\n",
      " 2   distance  199 non-null    object\n",
      " 3   rating    199 non-null    object\n",
      " 4   comment   199 non-null    object\n",
      " 5   price     199 non-null    object\n",
      "dtypes: object(6)\n",
      "memory usage: 9.5+ KB\n",
      "None\n",
      "<class 'pandas.core.frame.DataFrame'>\n",
      "RangeIndex: 224 entries, 0 to 223\n",
      "Data columns (total 6 columns):\n",
      " #   Column    Non-Null Count  Dtype \n",
      "---  ------    --------------  ----- \n",
      " 0   name      224 non-null    object\n",
      " 1   address   224 non-null    object\n",
      " 2   distance  224 non-null    object\n",
      " 3   rating    224 non-null    object\n",
      " 4   comment   224 non-null    object\n",
      " 5   price     224 non-null    object\n",
      "dtypes: object(6)\n",
      "memory usage: 10.6+ KB\n",
      "None\n",
      "<class 'pandas.core.frame.DataFrame'>\n",
      "RangeIndex: 249 entries, 0 to 248\n",
      "Data columns (total 6 columns):\n",
      " #   Column    Non-Null Count  Dtype \n",
      "---  ------    --------------  ----- \n",
      " 0   name      249 non-null    object\n",
      " 1   address   249 non-null    object\n",
      " 2   distance  249 non-null    object\n",
      " 3   rating    249 non-null    object\n",
      " 4   comment   249 non-null    object\n",
      " 5   price     249 non-null    object\n",
      "dtypes: object(6)\n",
      "memory usage: 11.8+ KB\n",
      "None\n",
      "<class 'pandas.core.frame.DataFrame'>\n",
      "RangeIndex: 274 entries, 0 to 273\n",
      "Data columns (total 6 columns):\n",
      " #   Column    Non-Null Count  Dtype \n",
      "---  ------    --------------  ----- \n",
      " 0   name      274 non-null    object\n",
      " 1   address   274 non-null    object\n",
      " 2   distance  274 non-null    object\n",
      " 3   rating    274 non-null    object\n",
      " 4   comment   274 non-null    object\n",
      " 5   price     274 non-null    object\n",
      "dtypes: object(6)\n",
      "memory usage: 13.0+ KB\n",
      "None\n",
      "<class 'pandas.core.frame.DataFrame'>\n",
      "RangeIndex: 299 entries, 0 to 298\n",
      "Data columns (total 6 columns):\n",
      " #   Column    Non-Null Count  Dtype \n",
      "---  ------    --------------  ----- \n",
      " 0   name      299 non-null    object\n",
      " 1   address   299 non-null    object\n",
      " 2   distance  299 non-null    object\n",
      " 3   rating    299 non-null    object\n",
      " 4   comment   299 non-null    object\n",
      " 5   price     299 non-null    object\n",
      "dtypes: object(6)\n",
      "memory usage: 14.1+ KB\n",
      "None\n",
      "<class 'pandas.core.frame.DataFrame'>\n",
      "RangeIndex: 324 entries, 0 to 323\n",
      "Data columns (total 6 columns):\n",
      " #   Column    Non-Null Count  Dtype \n",
      "---  ------    --------------  ----- \n",
      " 0   name      324 non-null    object\n",
      " 1   address   324 non-null    object\n",
      " 2   distance  324 non-null    object\n",
      " 3   rating    324 non-null    object\n",
      " 4   comment   324 non-null    object\n",
      " 5   price     324 non-null    object\n",
      "dtypes: object(6)\n",
      "memory usage: 15.3+ KB\n",
      "None\n",
      "<class 'pandas.core.frame.DataFrame'>\n",
      "RangeIndex: 348 entries, 0 to 347\n",
      "Data columns (total 6 columns):\n",
      " #   Column    Non-Null Count  Dtype \n",
      "---  ------    --------------  ----- \n",
      " 0   name      348 non-null    object\n",
      " 1   address   348 non-null    object\n",
      " 2   distance  348 non-null    object\n",
      " 3   rating    348 non-null    object\n",
      " 4   comment   348 non-null    object\n",
      " 5   price     348 non-null    object\n",
      "dtypes: object(6)\n",
      "memory usage: 16.4+ KB\n",
      "None\n",
      "<class 'pandas.core.frame.DataFrame'>\n",
      "RangeIndex: 373 entries, 0 to 372\n",
      "Data columns (total 6 columns):\n",
      " #   Column    Non-Null Count  Dtype \n",
      "---  ------    --------------  ----- \n",
      " 0   name      373 non-null    object\n",
      " 1   address   373 non-null    object\n",
      " 2   distance  373 non-null    object\n",
      " 3   rating    373 non-null    object\n",
      " 4   comment   373 non-null    object\n",
      " 5   price     373 non-null    object\n",
      "dtypes: object(6)\n",
      "memory usage: 17.6+ KB\n",
      "None\n",
      "<class 'pandas.core.frame.DataFrame'>\n",
      "RangeIndex: 398 entries, 0 to 397\n",
      "Data columns (total 6 columns):\n",
      " #   Column    Non-Null Count  Dtype \n",
      "---  ------    --------------  ----- \n",
      " 0   name      398 non-null    object\n",
      " 1   address   398 non-null    object\n",
      " 2   distance  398 non-null    object\n",
      " 3   rating    398 non-null    object\n",
      " 4   comment   398 non-null    object\n",
      " 5   price     398 non-null    object\n",
      "dtypes: object(6)\n",
      "memory usage: 18.8+ KB\n",
      "None\n",
      "<class 'pandas.core.frame.DataFrame'>\n",
      "RangeIndex: 423 entries, 0 to 422\n",
      "Data columns (total 6 columns):\n",
      " #   Column    Non-Null Count  Dtype \n",
      "---  ------    --------------  ----- \n",
      " 0   name      423 non-null    object\n",
      " 1   address   423 non-null    object\n",
      " 2   distance  423 non-null    object\n",
      " 3   rating    423 non-null    object\n",
      " 4   comment   423 non-null    object\n",
      " 5   price     423 non-null    object\n",
      "dtypes: object(6)\n",
      "memory usage: 20.0+ KB\n",
      "None\n",
      "<class 'pandas.core.frame.DataFrame'>\n",
      "RangeIndex: 448 entries, 0 to 447\n",
      "Data columns (total 6 columns):\n",
      " #   Column    Non-Null Count  Dtype \n",
      "---  ------    --------------  ----- \n",
      " 0   name      448 non-null    object\n",
      " 1   address   448 non-null    object\n",
      " 2   distance  448 non-null    object\n",
      " 3   rating    448 non-null    object\n",
      " 4   comment   448 non-null    object\n",
      " 5   price     448 non-null    object\n",
      "dtypes: object(6)\n",
      "memory usage: 21.1+ KB\n",
      "None\n"
     ]
    }
   ],
   "source": [
    "from bs4 import BeautifulSoup\n",
    "import os\n",
    "import requests\n",
    "import pandas as pd\n",
    "import itertools\n",
    "import re\n",
    "import numpy as np\n",
    "import urllib3\n",
    "import warnings\n",
    "warnings.filterwarnings(\"ignore\")\n",
    "import plotly.express as px\n",
    "\n",
    "# 以搜尋結果面網址\n",
    "headers = {\n",
    "        'Connection': 'keep-alive',\n",
    "        'Pragma': 'no-cache',\n",
    "        'Cache-Control': 'no-cache',\n",
    "        'DNT': '1',\n",
    "        'Upgrade-Insecure-Requests': '1',\n",
    "        # You may want to change the user agent if you get blocked\n",
    "        'User-Agent': 'Mozilla/5.0 (Macintosh; Intel Mac OS X 10_15_4) AppleWebKit/537.36 (KHTML, like Gecko) Chrome/81.0.4044.113 Safari/537.36',\n",
    "        'Accept': 'text/html,application/xhtml+xml,application/xml;q=0.9,image/webp,image/apng,*/*;q=0.8,application/signed-exchange;v=b3;q=0.9',\n",
    "\n",
    "        'Referer': 'https://www.booking.com/index.en-gb.html',\n",
    "    }\n",
    "numberHotel = 0\n",
    "error = 0\n",
    "n = 0\n",
    "df = pd.DataFrame(columns=['name','address', 'distance', 'rating', 'comment', 'price'])\n",
    "while True:\n",
    "    url = f'https://www.booking.com/searchresults.zh-tw.html?ss=taipei&checkin=2023-12-01&checkout=2023-12-02&group_adults=2&selected_currency=TWD&lang=en-us&soz=1&order=distance_from_search&offset={numberHotel}'\n",
    "    response = requests.get(url=url, headers=headers)\n",
    "    soup = BeautifulSoup(response.text, 'lxml')\n",
    "    hotel_items = soup.find_all('div', {'data-testid': 'property-card-container'})  # 假设每个酒店条目都有这个类名\n",
    "\n",
    "    for item in hotel_items:\n",
    "        name_element = item.find('div', {'data-testid': 'title'})  # 查找酒店名称\n",
    "        address_element = item.find('span', {'data-testid': 'address'})\n",
    "        distance_element = item.find('span', {'data-testid': 'distance'})  # 查找距离\n",
    "        rating_element = item.find('div', {'class': \"a3b8729ab1 d86cee9b25\"})  # 查找评分\n",
    "        comment_element = item.find('div', {'class': 'a3b8729ab1 e6208ee469 cb2cbb3ccb'})\n",
    "        price_element = item.find('span', {'data-testid': 'price-and-discounted-price'})\n",
    "        if name_element:\n",
    "            try:\n",
    "                name = name_element.text.strip()\n",
    "                address = address_element.text.strip()\n",
    "                distance = distance_element.text[0:5].strip()\n",
    "                rating = rating_element.text.strip()\n",
    "                comment = comment_element.text.strip()\n",
    "                price = price_element.text.strip()\n",
    "                data_dict = {'name': name,'address':address, 'distance': distance, 'rating': rating, 'comment': comment, 'price': price}\n",
    "                df = df.append(data_dict, ignore_index=True)\n",
    "                n += 1\n",
    "            except:\n",
    "                error += 1\n",
    "\n",
    "        else:\n",
    "            break\n",
    "    try:\n",
    "        totalHotel = int(soup.find('div', {'class': 'd8f77e681c'}).text.strip()[-20:-17])  # 假设每个酒店条目都有这个类名\n",
    "    except:\n",
    "        break\n",
    "    numberHotel += 25\n",
    "    if n + error == totalHotel:\n",
    "        break\n",
    "    # if numberHotel == 200:\n",
    "    #     break\n",
    "    print(df.info())\n",
    "\n",
    "df.to_csv('hotel.csv')"
   ]
  },
  {
   "cell_type": "code",
   "execution_count": 37,
   "metadata": {},
   "outputs": [],
   "source": [
    "import pandas as pd\n",
    "def clean_distance(value):\n",
    "    try:\n",
    "        if 'k' in value:\n",
    "            value = value.replace('km', '')\n",
    "            value = value.replace('k', '')\n",
    "            return float(value.strip())\n",
    "        else:\n",
    "            value = value.replace('m', '')\n",
    "            return float(value.strip()) / 1000\n",
    "    except:\n",
    "        print(value)\n",
    "        return np.nan\n",
    "    \n",
    "def clean_price(value):\n",
    "    return int(value.replace('TWD', '').replace(',', ''))\n",
    "\n",
    "df = pd.read_csv(\"hotel.csv\")\n",
    "df['distance'] = df['distance'].apply(clean_distance)\n",
    "df['price'] = df['price'].apply(clean_price)"
   ]
  },
  {
   "cell_type": "code",
   "execution_count": 38,
   "metadata": {},
   "outputs": [
    {
     "data": {
      "text/html": [
       "<div>\n",
       "<style scoped>\n",
       "    .dataframe tbody tr th:only-of-type {\n",
       "        vertical-align: middle;\n",
       "    }\n",
       "\n",
       "    .dataframe tbody tr th {\n",
       "        vertical-align: top;\n",
       "    }\n",
       "\n",
       "    .dataframe thead th {\n",
       "        text-align: right;\n",
       "    }\n",
       "</style>\n",
       "<table border=\"1\" class=\"dataframe\">\n",
       "  <thead>\n",
       "    <tr style=\"text-align: right;\">\n",
       "      <th></th>\n",
       "      <th>Unnamed: 0</th>\n",
       "      <th>name</th>\n",
       "      <th>address</th>\n",
       "      <th>distance</th>\n",
       "      <th>rating</th>\n",
       "      <th>comment</th>\n",
       "      <th>price</th>\n",
       "    </tr>\n",
       "  </thead>\n",
       "  <tbody>\n",
       "    <tr>\n",
       "      <th>0</th>\n",
       "      <td>0</td>\n",
       "      <td>Inn Cube - Taipei Main Station</td>\n",
       "      <td>Zhongzheng District, Taipei</td>\n",
       "      <td>0.1000</td>\n",
       "      <td>7.6</td>\n",
       "      <td>Good</td>\n",
       "      <td>2340</td>\n",
       "    </tr>\n",
       "    <tr>\n",
       "      <th>1</th>\n",
       "      <td>1</td>\n",
       "      <td>Taiwan Youth Hostel &amp; Capsule Hotel</td>\n",
       "      <td>Zhongzheng District, Taipei</td>\n",
       "      <td>0.1500</td>\n",
       "      <td>8.7</td>\n",
       "      <td>Excellent</td>\n",
       "      <td>2300</td>\n",
       "    </tr>\n",
       "    <tr>\n",
       "      <th>2</th>\n",
       "      <td>2</td>\n",
       "      <td>NYS Loft Hotel</td>\n",
       "      <td>Zhongzheng District, Taipei</td>\n",
       "      <td>0.1500</td>\n",
       "      <td>8.1</td>\n",
       "      <td>Very Good</td>\n",
       "      <td>2640</td>\n",
       "    </tr>\n",
       "    <tr>\n",
       "      <th>3</th>\n",
       "      <td>3</td>\n",
       "      <td>Mayer Inn</td>\n",
       "      <td>Zhongzheng District, Taipei</td>\n",
       "      <td>0.2000</td>\n",
       "      <td>7.8</td>\n",
       "      <td>Good</td>\n",
       "      <td>4860</td>\n",
       "    </tr>\n",
       "    <tr>\n",
       "      <th>4</th>\n",
       "      <td>4</td>\n",
       "      <td>Water meworld</td>\n",
       "      <td>Zhongzheng District, Taipei</td>\n",
       "      <td>0.2000</td>\n",
       "      <td>7.9</td>\n",
       "      <td>Good</td>\n",
       "      <td>4085</td>\n",
       "    </tr>\n",
       "    <tr>\n",
       "      <th>...</th>\n",
       "      <td>...</td>\n",
       "      <td>...</td>\n",
       "      <td>...</td>\n",
       "      <td>...</td>\n",
       "      <td>...</td>\n",
       "      <td>...</td>\n",
       "      <td>...</td>\n",
       "    </tr>\n",
       "    <tr>\n",
       "      <th>468</th>\n",
       "      <td>468</td>\n",
       "      <td>Grand HiLai Taipei</td>\n",
       "      <td>Nangang District, Taipei</td>\n",
       "      <td>0.0103</td>\n",
       "      <td>8.1</td>\n",
       "      <td>Very Good</td>\n",
       "      <td>7472</td>\n",
       "    </tr>\n",
       "    <tr>\n",
       "      <th>469</th>\n",
       "      <td>469</td>\n",
       "      <td>Great Family Hotel</td>\n",
       "      <td>Beitou District, Taipei</td>\n",
       "      <td>0.0104</td>\n",
       "      <td>8.1</td>\n",
       "      <td>Very Good</td>\n",
       "      <td>2480</td>\n",
       "    </tr>\n",
       "    <tr>\n",
       "      <th>470</th>\n",
       "      <td>470</td>\n",
       "      <td>Jeanette Home</td>\n",
       "      <td>Taipei</td>\n",
       "      <td>0.0104</td>\n",
       "      <td>9.6</td>\n",
       "      <td>Exceptional</td>\n",
       "      <td>3970</td>\n",
       "    </tr>\n",
       "    <tr>\n",
       "      <th>471</th>\n",
       "      <td>471</td>\n",
       "      <td>CHECK inn Select Taipei Yamgmingshan</td>\n",
       "      <td>Shilin District , Taipei</td>\n",
       "      <td>0.0113</td>\n",
       "      <td>7.4</td>\n",
       "      <td>Good</td>\n",
       "      <td>6036</td>\n",
       "    </tr>\n",
       "    <tr>\n",
       "      <th>472</th>\n",
       "      <td>472</td>\n",
       "      <td>Yanmin Hot Spring Resort</td>\n",
       "      <td>Shilin District , Taipei</td>\n",
       "      <td>0.0125</td>\n",
       "      <td>7.9</td>\n",
       "      <td>Good</td>\n",
       "      <td>6800</td>\n",
       "    </tr>\n",
       "  </tbody>\n",
       "</table>\n",
       "<p>473 rows × 7 columns</p>\n",
       "</div>"
      ],
      "text/plain": [
       "     Unnamed: 0                                  name  \\\n",
       "0             0        Inn Cube - Taipei Main Station   \n",
       "1             1   Taiwan Youth Hostel & Capsule Hotel   \n",
       "2             2                        NYS Loft Hotel   \n",
       "3             3                             Mayer Inn   \n",
       "4             4                         Water meworld   \n",
       "..          ...                                   ...   \n",
       "468         468                    Grand HiLai Taipei   \n",
       "469         469                    Great Family Hotel   \n",
       "470         470                         Jeanette Home   \n",
       "471         471  CHECK inn Select Taipei Yamgmingshan   \n",
       "472         472              Yanmin Hot Spring Resort   \n",
       "\n",
       "                         address  distance  rating      comment  price  \n",
       "0    Zhongzheng District, Taipei    0.1000     7.6         Good   2340  \n",
       "1    Zhongzheng District, Taipei    0.1500     8.7    Excellent   2300  \n",
       "2    Zhongzheng District, Taipei    0.1500     8.1    Very Good   2640  \n",
       "3    Zhongzheng District, Taipei    0.2000     7.8         Good   4860  \n",
       "4    Zhongzheng District, Taipei    0.2000     7.9         Good   4085  \n",
       "..                           ...       ...     ...          ...    ...  \n",
       "468     Nangang District, Taipei    0.0103     8.1    Very Good   7472  \n",
       "469      Beitou District, Taipei    0.0104     8.1    Very Good   2480  \n",
       "470                       Taipei    0.0104     9.6  Exceptional   3970  \n",
       "471     Shilin District , Taipei    0.0113     7.4         Good   6036  \n",
       "472     Shilin District , Taipei    0.0125     7.9         Good   6800  \n",
       "\n",
       "[473 rows x 7 columns]"
      ]
     },
     "execution_count": 38,
     "metadata": {},
     "output_type": "execute_result"
    }
   ],
   "source": [
    "df"
   ]
  },
  {
   "cell_type": "code",
   "execution_count": 39,
   "metadata": {},
   "outputs": [
    {
     "data": {
      "application/vnd.plotly.v1+json": {
       "config": {
        "plotlyServerURL": "https://plot.ly"
       },
       "data": [
        {
         "customdata": [
          [
           "Inn Cube - Taipei Main Station",
           "Good"
          ],
          [
           "Taiwan Youth Hostel & Capsule Hotel",
           "Excellent"
          ],
          [
           "NYS Loft Hotel",
           "Very Good"
          ],
          [
           "Mayer Inn",
           "Good"
          ],
          [
           "Water meworld",
           "Good"
          ],
          [
           "Sky19 Hotel",
           "Excellent"
          ],
          [
           "Morwing Hotel - Culture Vogue",
           "Very Good"
          ],
          [
           "York Hotel",
           "Good"
          ],
          [
           "Taipei Inn",
           "Good"
          ],
          [
           "White Space Design Hotel",
           "Very Good"
          ],
          [
           "Smile Inn - Taipei Main Station",
           "Good"
          ],
          [
           "Apause Inn",
           "Very Good"
          ],
          [
           "Master Hotel",
           "Good"
          ],
          [
           "Cavemen Hostel Taipei Station Youth Branch",
           "Good"
          ],
          [
           "T.O. Hotel - Taipei station",
           "Very Good"
          ],
          [
           "Cityinn Hotel Taipei Station Branch I",
           "Excellent"
          ],
          [
           "Say Love Hotel",
           "Good"
          ],
          [
           "苓旅-站前 Lin Inn TMS",
           "Very Good"
          ],
          [
           "Roaders Plus Hotel - Theme",
           "Very Good"
          ],
          [
           "Roaders Plus Hotel - Taipei Station",
           "Very Good"
          ],
          [
           "CHECK inn Taipei Main Station",
           "Very Good"
          ],
          [
           "New May Flower Hotel",
           "Review score"
          ],
          [
           "Re-Change Hotel Taipei",
           "Good"
          ],
          [
           "Bouti City Capsule Inn",
           "Very Good"
          ],
          [
           "Just Inn",
           "Very Good"
          ],
          [
           "Royal Rose Hotel Taipei Station",
           "Very Good"
          ],
          [
           "Poshpacker Hotel",
           "Very Good"
          ],
          [
           "HINOEN Hotel",
           "Very Good"
          ],
          [
           "OwlStay Flip Flop Hostel - Garden",
           "Excellent"
          ],
          [
           "Old Door Hostel & Bar",
           "Wonderful"
          ],
          [
           "Sheraton Grand Taipei Hotel",
           "Very Good"
          ],
          [
           "新獅城商務旅店",
           "Review score"
          ],
          [
           "Rich & Free Hotel",
           "Excellent"
          ],
          [
           "Main Inn Taipei",
           "Good"
          ],
          [
           "Artinn藝築文旅-台北站前館",
           "Very Good"
          ],
          [
           "Formosa 101 Taipei Main Branch",
           "Very Good"
          ],
          [
           "Morwing Hotel Fairytale",
           "Good"
          ],
          [
           "Via Hotel Taipei Station",
           "Excellent"
          ],
          [
           "紫園旅社Purple Garden Hotel",
           "Good"
          ],
          [
           "CityInn Hotel Taipei Station Branch III",
           "Excellent"
          ],
          [
           "Taipei Sunny Hostel",
           "Excellent"
          ],
          [
           "CityInn Hotel Taipei Station Branch II",
           "Wonderful"
          ],
          [
           "Finders Hotel-Fu Qian",
           "Very Good"
          ],
          [
           "Bee House - Taipei Station Branch",
           "Excellent"
          ],
          [
           "Hotel Resonance Taipei, Tapestry Collection by Hilton",
           "Wonderful"
          ],
          [
           "Mr. Lobster’s Secret Den design hostel",
           "Good"
          ],
          [
           "K Hotel Tianjin",
           "Excellent"
          ],
          [
           "CHECK inn Express Taipei Station",
           "Good"
          ],
          [
           "109台北旅館-台北109青旅 109 Taipei Hotel - Taipei 109 Hostel",
           "Wonderful"
          ],
          [
           "Queens Hotel",
           "Review score"
          ],
          [
           "Bayman Hotel",
           "Very Good"
          ],
          [
           "Yesing Hotel",
           "Excellent"
          ],
          [
           "SleepBox Hostel",
           "Good"
          ],
          [
           "Lio Hotel - Taipei Main Station",
           "Review score"
          ],
          [
           "May Rooms Taipei Main Station",
           "Very Good"
          ],
          [
           "Angels Hostel Taipei Ximen",
           "Good"
          ],
          [
           "Beimen WOW Poshtel",
           "Very Good"
          ],
          [
           "Fun Inn Taipei Hostel",
           "Good"
          ],
          [
           "Tango Inn Taipei ZhongShan",
           "Excellent"
          ],
          [
           "Roaders Hotel - Zhonghua",
           "Excellent"
          ],
          [
           "Hotel Orchard Park - Taipei",
           "Good"
          ],
          [
           "Chian Huei Business Hotel",
           "Good"
          ],
          [
           "City Suites - Main Station",
           "Very Good"
          ],
          [
           "DoubleTree by Hilton Taipei Zhongshan",
           "Wonderful"
          ],
          [
           "Soldier Culture7Room blue line MRT30sec26p",
           "Wonderful"
          ],
          [
           "Urhome Hotel",
           "Very Good"
          ],
          [
           "Taipei Toy Hotel",
           "Review score"
          ],
          [
           "Sunny Hotel",
           "Good"
          ],
          [
           "K Hotels Taipei Linsen",
           "Excellent"
          ],
          [
           "Tien Chin Hotel",
           "Good"
          ],
          [
           "Just Sleep - Ximending",
           "Excellent"
          ],
          [
           "The Tango Hotel Taipei ChangAn",
           "Very Good"
          ],
          [
           "The Tango Hotel Taipei Nanshi",
           "Excellent"
          ],
          [
           "Hotel COZZI Zhongxiao Taipei",
           "Excellent"
          ],
          [
           "泊居旅店二館 Oursinn Hotel 2",
           "Good"
          ],
          [
           "Royal Inn Taipei Linsen - Huashan 1914 Creative Park",
           "Very Good"
          ],
          [
           "The Rooms Inn",
           "Good"
          ],
          [
           "Dandy Hotel - Tianjin Branch",
           "Wonderful"
          ],
          [
           "W S Stay",
           "Good"
          ],
          [
           "Royal Inn Taipei Nanxi - MRT Zhongshan Station",
           "Very Good"
          ],
          [
           "Ximen Hotel",
           "Good"
          ],
          [
           "The Okura Prestige Taipei",
           "Excellent"
          ],
          [
           "Ximen Hotel B",
           "Good"
          ],
          [
           "Wonstar Hotel",
           "Very Good"
          ],
          [
           "RF Hotel  Linsen",
           "Very Good"
          ],
          [
           "盤古捷旅 - Panco Hotel",
           "Excellent"
          ],
          [
           "Solaria Nishitetsu Hotel Taipei Ximen",
           "Wonderful"
          ],
          [
           "Muzik Hotel - Ximen Station Branch",
           "Very Good"
          ],
          [
           "Ximen Garden Inn",
           "Good"
          ],
          [
           "K Hotel Taipei",
           "Very Good"
          ],
          [
           "Hotel 6 - ZhongHua",
           "Good"
          ],
          [
           "Dealer Hotel",
           "Good"
          ],
          [
           "City Suites - Beimen",
           "Very Good"
          ],
          [
           "Orange Hotel - Linsen, Taipei",
           "Very Good"
          ],
          [
           "Dahshin Hotel",
           "Good"
          ],
          [
           "Royal Rose Hotel Linsen",
           "Very Good"
          ],
          [
           "V-one Hotel - Ningxia No. 2 Inn",
           "Very Good"
          ],
          [
           "Hotel Midtown Richardson",
           "Good"
          ],
          [
           "獨立套房 西門町 離西門捷運站走路只需三分鐘，離西門商圈只需一分鐘，有電梯和洗衣機和獨立淋浴間",
           "Exceptional"
          ],
          [
           "Hua Da Hotel- Nanxi",
           "Good"
          ],
          [
           "Taipei International Hotel",
           "Good"
          ],
          [
           "Golden Home Hotel",
           "Good"
          ],
          [
           "Royal Seasons Hotel Taipei ‧ Nanjing W.",
           "Very Good"
          ],
          [
           "Queens Hotel II",
           "Very Good"
          ],
          [
           "We Come Hostel",
           "Wonderful"
          ],
          [
           "City Suites-Taipei Nanxi",
           "Very Good"
          ],
          [
           "Walker Hotel. Ximen",
           "Good"
          ],
          [
           "Ximen Airline Hotel",
           "Very Good"
          ],
          [
           "WESTGATE Hotel",
           "Excellent"
          ],
          [
           "Hotel 6 - Ximen",
           "Good"
          ],
          [
           "Ximen 日記",
           "Good"
          ],
          [
           "Gugis Inn",
           "Review score"
          ],
          [
           "T.O. Hotel Chengde",
           "Good"
          ],
          [
           "Taipei City Hostel",
           "Good"
          ],
          [
           "Ximen Wow Hostel",
           "Good"
          ],
          [
           "TW Capsule Hostel",
           "Review score"
          ],
          [
           "Hub Hotel Ximen Inn",
           "Very Good"
          ],
          [
           "EZ Stay Hotel",
           "Review score"
          ],
          [
           "Comma Boutique Hotel",
           "Excellent"
          ],
          [
           "Royal Rose Hotel Ximen",
           "Very Good"
          ],
          [
           "Honey Prince",
           "Review score"
          ],
          [
           "Regent Taipei",
           "Excellent"
          ],
          [
           "HATAGO+ THE ALLEY",
           "Very Good"
          ],
          [
           "I Play Inn TP",
           "Good"
          ],
          [
           "Inn Cube - Ximen",
           "Good"
          ],
          [
           "inhouse Hotel",
           "Very Good"
          ],
          [
           "Wonderwall Ximending",
           "Very Good"
          ],
          [
           "HotelsHere - Ximen",
           "Review score"
          ],
          [
           "San Want Residences Taipei",
           "Wonderful"
          ],
          [
           "Orange Hotel - Ximen, Taipei",
           "Excellent"
          ],
          [
           "The Moon Hotel",
           "Good"
          ],
          [
           "LaVita Hotel",
           "Good"
          ],
          [
           "Hotel Puri",
           "Very Good"
          ],
          [
           "Burgary Hotel",
           "Good"
          ],
          [
           "SWIIO Hotel Ximending",
           "Good"
          ],
          [
           "Hotel Cloud",
           "Good"
          ],
          [
           "Funny Ximen Hotel",
           "Good"
          ],
          [
           "Goodscompany",
           "Review score"
          ],
          [
           "E-House Xining Branch",
           "Good"
          ],
          [
           "欣欣旅店",
           "Good"
          ],
          [
           "Haozhan Hotel",
           "Good"
          ],
          [
           "Ambience Hotel Taipei",
           "Excellent"
          ],
          [
           "Hotel 6 - Wannien",
           "Good"
          ],
          [
           "CU Hotel Taipei",
           "Very Good"
          ],
          [
           "Hotel PaPa Whale",
           "Very Good"
          ],
          [
           "Taipei Backpackers Hostel",
           "Review score"
          ],
          [
           "日光樂居西門館 Fun Stay Inn Ximen",
           "Very Good"
          ],
          [
           "苓旅萬年-LIN INN Wan Nian",
           "Very Good"
          ],
          [
           "E-House Hotel",
           "Good"
          ],
          [
           "Dan Hostel丹居青旅",
           "Very Good"
          ],
          [
           "Guide Hotel Taipei Dadaocheng",
           "Review score"
          ],
          [
           "Cheers Loft Self Check-in Hotel",
           "Review score"
          ],
          [
           "Art Inn - Kaifeng",
           "Good"
          ],
          [
           "Beauty Hotels Taipei - Hotel Bfun Self Check in Hotel",
           "Very Good"
          ],
          [
           "Wow Happy- Taipei",
           "Excellent"
          ],
          [
           "Beauty Hotels Taipei - Hotel B6",
           "Good"
          ],
          [
           "Hotels Here - Taipei",
           "Review score"
          ],
          [
           "Homey House",
           "Good"
          ],
          [
           "朵兒dor韓國汗蒸幕 동대문점 商務旅店",
           "Excellent"
          ],
          [
           "Beauty Hotels - Hotel Bnight-Self Check-In Hotel",
           "Very Good"
          ],
          [
           "泊居旅店 Oursinn Hotel",
           "Good"
          ],
          [
           "Dream Travel",
           "Review score"
          ],
          [
           "Han She Hotel",
           "Good"
          ],
          [
           "Wallsun Hotel",
           "Very Good"
          ],
          [
           "Colors Infinity Inn",
           "Good"
          ],
          [
           "Hua Shan Din by Cosmos Creation - Huashan Creative Park",
           "Excellent"
          ],
          [
           "ColorMix Hotel & Hostel",
           "Very Good"
          ],
          [
           "Mei Lodge",
           "Good"
          ],
          [
           "Beauty Hotels Taipei - Hotel Bchic",
           "Very Good"
          ],
          [
           "在家行旅At Home Hotel",
           "Wonderful"
          ],
          [
           "Energy Inn",
           "Wonderful"
          ],
          [
           "Beauty Hotels Taipei - Hotel Bstay",
           "Good"
          ],
          [
           "Hotel I Journey",
           "Good"
          ],
          [
           "Hotel Gracery Taipei",
           "Wonderful"
          ],
          [
           "GAWA Hotel",
           "Good"
          ],
          [
           "Cho Hotel 3",
           "Excellent"
          ],
          [
           "Welove meworld Inn",
           "Good"
          ],
          [
           "Red Cabin Inn",
           "Good"
          ],
          [
           "Cho Hotel",
           "Excellent"
          ],
          [
           "Sun Star Business Hotel",
           "Good"
          ],
          [
           "Art'otel Ximending Taipei",
           "Very Good"
          ],
          [
           "Jian Shan Hotel",
           "Excellent"
          ],
          [
           "First Hotel",
           "Good"
          ],
          [
           "Ximen Citizen Hotel",
           "Good"
          ],
          [
           "Yomi Hotel - ShuangLian MRT",
           "Very Good"
          ],
          [
           "New World Hotel",
           "Good"
          ],
          [
           "Fu Chang Hotel",
           "Good"
          ],
          [
           "Backpackers Hostel - Ximen",
           "Good"
          ],
          [
           "Parkview Taipei",
           "Wonderful"
          ],
          [
           "Citizen Hotel",
           "Excellent"
          ],
          [
           "台北馥華商旅 松江館",
           "Very Good"
          ],
          [
           "Suz Hotel",
           "Excellent"
          ],
          [
           "Link World Hotel",
           "Very Good"
          ],
          [
           "Taipei Garden Hotel - Ximending",
           "Excellent"
          ],
          [
           "綺樂文旅 康定館 Le Room Hotel Kangding",
           "Review score"
          ],
          [
           "Meander Taipei Hostel - Ximending",
           "Very Good"
          ],
          [
           "Hù House - Taipei",
           "Very Good"
          ],
          [
           "V-one Vogue Hotel",
           "Very Good"
          ],
          [
           "K Hotel Taipei Chang-An",
           "Excellent"
          ],
          [
           "Kai Wei Boutique Hotel",
           "Good"
          ],
          [
           "Riverview Suites Taipei",
           "Very Good"
          ],
          [
           "Eastern Beauty Hotel",
           "Review score"
          ],
          [
           "Humble Boutique Hotel",
           "Excellent"
          ],
          [
           "Hotel Riverview Taipei",
           "Good"
          ],
          [
           "Dong Men Hotel",
           "Good"
          ],
          [
           "Journey Town Inn",
           "Wonderful"
          ],
          [
           "Bon Hotel Taipei",
           "Very Good"
          ],
          [
           "KDM Hotel",
           "Good"
          ],
          [
           "The Door Inn",
           "Wonderful"
          ],
          [
           "Goldinn Hotel",
           "Very Good"
          ],
          [
           "Happiness Hotel",
           "Good"
          ],
          [
           "Chaiin Hotel - Dongmen",
           "Very Good"
          ],
          [
           "VIP Hotel",
           "Good"
          ],
          [
           "Saual Keh Hotel",
           "Review score"
          ],
          [
           "Wego Hotel - Linsen",
           "Very Good"
          ],
          [
           "K Hotel Taipei II",
           "Excellent"
          ],
          [
           "XINSHE Hotel - Linsen",
           "Very Good"
          ],
          [
           "Meeting Mates Hostel",
           "Good"
          ],
          [
           "Sonnien Hotel",
           "Very Good"
          ],
          [
           "Hotel Fun - Linsen",
           "Very Good"
          ],
          [
           "9ine Hotel",
           "Good"
          ],
          [
           "Royal Rose Hotel Xinsheng",
           "Excellent"
          ],
          [
           "DG Hotel",
           "Excellent"
          ],
          [
           "ARK Hotel - Dongmen",
           "Good"
          ],
          [
           "Miramar Garden Taipei",
           "Excellent"
          ],
          [
           "Aloft Taipei Zhongshan",
           "Very Good"
          ],
          [
           "Green World JianPei",
           "Very Good"
          ],
          [
           "Hotel Mvsa+Michelin 2 Starred Molino de Urdàniz",
           "Excellent"
          ],
          [
           "Good Life Hotel - Shang Hwa",
           "Good"
          ],
          [
           "漫慢米窩",
           "Review score"
          ],
          [
           "Monka Hotel",
           "Very Good"
          ],
          [
           "Green World Grand NanJing",
           "Excellent"
          ],
          [
           "Santos Hotel",
           "Good"
          ],
          [
           "Hamp Court Palace Taipei",
           "Excellent"
          ],
          [
           "CHECK inn Taipei Nanjing",
           "Very Good"
          ],
          [
           "CY Hotel",
           "Very Good"
          ],
          [
           "Rido Hotel",
           "Excellent"
          ],
          [
           "K Hotel Taipei Songjiang",
           "Excellent"
          ],
          [
           "CHECK inn Taipei Songjiang",
           "Very Good"
          ],
          [
           "Taipei Discover Hostel",
           "Excellent"
          ],
          [
           "Dandy Hotel-Daan Park Branch",
           "Excellent"
          ],
          [
           "The Landis Taipei",
           "Excellent"
          ],
          [
           "Jolley Hotel",
           "Wonderful"
          ],
          [
           "Waikoloa Hotel",
           "Excellent"
          ],
          [
           "Fullon Hotel Taipei, Central",
           "Very Good"
          ],
          [
           "Cai She Hotel",
           "Good"
          ],
          [
           "Royal Rose Hotel Shuangcheng Hall",
           "Very Good"
          ],
          [
           "Unite Hotel",
           "Good"
          ],
          [
           "Hotel COZZI Minsheng Taipei",
           "Excellent"
          ],
          [
           "Dasin",
           "Review score"
          ],
          [
           "Meadow Hotel Taipei",
           "Good"
          ],
          [
           "Backpackers Hostel - Taipei Changchun",
           "Very Good"
          ],
          [
           "Wholesome Hotel",
           "Good"
          ],
          [
           "Taipei Lotty Hotel",
           "Good"
          ],
          [
           "Caesar Metro Taipei",
           "Very Good"
          ],
          [
           "貴都飯店-Crystal Hotel Taipei",
           "Review score"
          ],
          [
           "Courtyard by Marriott Taipei Downtown",
           "Wonderful"
          ],
          [
           "苓旅中山館-Lininn ZhongShan",
           "Excellent"
          ],
          [
           "FX Hotel Taipei Nanjing East Road Branch",
           "Very Good"
          ],
          [
           "Silken Hotel",
           "Very Good"
          ],
          [
           "Hotel Metropolitan Premier Taipei",
           "Excellent"
          ],
          [
           "JSL hotel",
           "Very Good"
          ],
          [
           "Walker Hotel - Zhengyi 2",
           "Review score"
          ],
          [
           "Urbanone Hotel",
           "Review score"
          ],
          [
           "The Metro Hotel - Taipei Branch",
           "Very Good"
          ],
          [
           "Walker Hotel - Zhengyi",
           "Review score"
          ],
          [
           "Goodmore Hotel",
           "Very Good"
          ],
          [
           "The Riviera Hotel Taipei",
           "Excellent"
          ],
          [
           "City Hotel",
           "Good"
          ],
          [
           "Ark Hotel - Changan Fuxing方舟商業股份有限公司",
           "Very Good"
          ],
          [
           "Horizon Inn",
           "Very Good"
          ],
          [
           "Amici hotel Six Star Hostel",
           "Good"
          ],
          [
           "Hey Bear Capsule Hotel",
           "Very Good"
          ],
          [
           "Deja Vu Hotel",
           "Good"
          ],
          [
           "RF Hotel - Sanchong",
           "Good"
          ],
          [
           "Chez Nous",
           "Wonderful"
          ],
          [
           "The Howard Plaza Hotel Taipei",
           "Very Good"
          ],
          [
           "Wemeet Hotel Taipei",
           "Good"
          ],
          [
           "台北碧瑤飯店 Hotel B",
           "Very Good"
          ],
          [
           "Urtrip Hotel",
           "Very Good"
          ],
          [
           "Brother Hotel",
           "Excellent"
          ],
          [
           "The Tango Hotel Taipei FuHsing",
           "Excellent"
          ],
          [
           "Hub Hotel - Songshan Airport Branch",
           "Very Good"
          ],
          [
           "les suites taipei ching cheng",
           "Excellent"
          ],
          [
           "Kimpton Da An Taipei- an IHG Hotel",
           "Wonderful"
          ],
          [
           "Guide Hotel Taipei NTU",
           "Good"
          ],
          [
           "Delight Hotel",
           "Very Good"
          ],
          [
           "Sir Motel - Sanchong",
           "Good"
          ],
          [
           "Hotel Proverbs Taipei",
           "Wonderful"
          ],
          [
           "Sun Ho Inn",
           "Good"
          ],
          [
           "Tai Hope Hotel",
           "Good"
          ],
          [
           "Wowhappy Daan",
           "Very Good"
          ],
          [
           "Park Taipei Hotel",
           "Excellent"
          ],
          [
           "Shanger Hotel",
           "Good"
          ],
          [
           "Forever Inn",
           "Good"
          ],
          [
           "Les Suites Taipei - Da An",
           "Very Good"
          ],
          [
           "Guide Hotel Taipei Fuxing North",
           "Review score"
          ],
          [
           "Walker Hotel - Sanchong",
           "Good"
          ],
          [
           "Walker Hotel - Chenggong",
           "Good"
          ],
          [
           "CityInn Hotel Plus- Fuxing North Road Branch",
           "Wonderful"
          ],
          [
           "K Hotel Taipei Nanjing",
           "Excellent"
          ],
          [
           "Taipei Fullerton Hotel-Maison North",
           "Excellent"
          ],
          [
           "Swiio Hotel Daan",
           "Wonderful"
          ],
          [
           "Taiwan Seven Days Boutique Hotel",
           "Good"
          ],
          [
           "Taipei Fullerton Hotel - South",
           "Very Good"
          ],
          [
           "Happiness meworld",
           "Good"
          ],
          [
           "ILLUME Taipei",
           "Very Good"
          ],
          [
           "美寓藝術文旅 Meistay Art Gallery Hotel",
           "Very Good"
          ],
          [
           "S Hotel | Designed by Philippe Starck",
           "Good"
          ],
          [
           "HopeCity MinSheng Hotel",
           "Good"
          ],
          [
           "Attic Hotel",
           "Very Good"
          ],
          [
           "Mandarin Oriental Taipei",
           "Wonderful"
          ],
          [
           "Hotel Eclat Taipei",
           "Very Good"
          ],
          [
           "Grace Hotel Dunbei",
           "Excellent"
          ],
          [
           "安庭台北商旅",
           "Good"
          ],
          [
           "Madison Taipei Hotel",
           "Excellent"
          ],
          [
           "Green World ZhongXiao",
           "Very Good"
          ],
          [
           "東鑫商務旅館Eastern Star Hotel",
           "Review score"
          ],
          [
           "Vendome East Inn",
           "Good"
          ],
          [
           "arTree hotel",
           "Excellent"
          ],
          [
           "CHIENTAN Youth Hotel",
           "Very Good"
          ],
          [
           "Zhongxiao Dunhua Homestay",
           "Good"
          ],
          [
           "喜客商旅 Seeker Hotel - Sanchong",
           "Good"
          ],
          [
           "Hotelpoispois",
           "Good"
          ],
          [
           "CHECK inn Select New Taipei Sanchong",
           "Very Good"
          ],
          [
           "RF Hotel - Zhongxiao",
           "Good"
          ],
          [
           "Discovery Motel - Yanping",
           "Good"
          ],
          [
           "Hotel HD Palace",
           "Good"
          ],
          [
           "Shangri-La Far Eastern, Taipei",
           "Excellent"
          ],
          [
           "Hej Taipei Arena Hotel",
           "Very Good"
          ],
          [
           "United Hotel",
           "Very Good"
          ],
          [
           "Taipei Charming City Hotel",
           "Good"
          ],
          [
           "The Tango Hotel Taipei Shilin",
           "Excellent"
          ],
          [
           "The Tango Hotel Taipei Jiantan",
           "Excellent"
          ],
          [
           "Green World Triple Beds",
           "Very Good"
          ],
          [
           "K Hotel Taipei Dunnan",
           "Very Good"
          ],
          [
           "Beauty Hotels - Star Beauty Resort",
           "Good"
          ],
          [
           "Eslite Hotel",
           "Wonderful"
          ],
          [
           "Pacific Business Hotel",
           "Very Good"
          ],
          [
           "May Rooms Taipei NTU",
           "Good"
          ],
          [
           "Hotel East Taipei",
           "Very Good"
          ],
          [
           "Hostel Jiizu",
           "Very Good"
          ],
          [
           "Riyuexing Hotel",
           "Good"
          ],
          [
           "WORK INN at Taipei 101",
           "Good"
          ],
          [
           "Formosa 101",
           "Very Good"
          ],
          [
           "Members Hotel at Taipei 101",
           "Very Good"
          ],
          [
           "Guide Hotel Taipei Xinyi",
           "Review score"
          ],
          [
           "Fooyee Hotel - Yonghe",
           "Good"
          ],
          [
           "Just Sleep - Sanchong",
           "Wonderful"
          ],
          [
           "Golden Garden Hotel",
           "Very Good"
          ],
          [
           "Hanns House",
           "Wonderful"
          ],
          [
           "Grand Hyatt Taipei",
           "Very Good"
          ],
          [
           "Guide Hotel Taipei Bade",
           "Good"
          ],
          [
           "York Hotel",
           "Good"
          ],
          [
           "Just Inn Taipei (Xin Yi)",
           "Very Good"
          ],
          [
           "Boutech JianTan Hotel",
           "Excellent"
          ],
          [
           "Taipei 101 SPARKLE Hotel",
           "Good"
          ],
          [
           "M Taipei Hotel",
           "Good"
          ],
          [
           "Uinn Business Hotel-Shihlin",
           "Excellent"
          ],
          [
           "W Taipei",
           "Excellent"
          ],
          [
           "Sunrise Hotel",
           "Good"
          ],
          [
           "Greatt Hotel",
           "Very Good"
          ],
          [
           "Humble House Taipei",
           "Excellent"
          ],
          [
           "Le Meridien Taipei",
           "Very Good"
          ],
          [
           "Papersun Hotel",
           "Good"
          ],
          [
           "Hotel Color",
           "Very Good"
          ],
          [
           "Home Hotel",
           "Very Good"
          ],
          [
           "Grand Mayfull Taipei",
           "Wonderful"
          ],
          [
           "NK Hostel",
           "Excellent"
          ],
          [
           "City Suites - Taipei Nandong",
           "Very Good"
          ],
          [
           "Yes Motel",
           "Good"
          ],
          [
           "欣欣時尚旅店松山站",
           "Good"
          ],
          [
           "CHECK inn New Taipei LuZhou",
           "Excellent"
          ],
          [
           "Lacle Hotel-Luzhou Taipei",
           "Excellent"
          ],
          [
           "Carnival Motel",
           "Good"
          ],
          [
           "Tango Motel",
           "Very Good"
          ],
          [
           "The Tango Hotel Taipei XinYi",
           "Very Good"
          ],
          [
           "Hotel G7 Taipei",
           "Good"
          ],
          [
           "Taipei Marriott Hotel",
           "Excellent"
          ],
          [
           "Wego Funtel - Dazhi Branch",
           "Very Good"
          ],
          [
           "Nice Hotel",
           "Good"
          ],
          [
           "Jasper Young Hotel Banqiao",
           "Wonderful"
          ],
          [
           "Hub Hotel Songshan Inn",
           "Good"
          ],
          [
           "Place‧X Hotel",
           "Review score"
          ],
          [
           "森浩文旅",
           "Very Good"
          ],
          [
           "Waterfront Hotel",
           "Excellent"
          ],
          [
           "Hotel Lee-Chan",
           "Good"
          ],
          [
           "Best Hotel",
           "Good"
          ],
          [
           "Capital Hotel SongShan",
           "Good"
          ],
          [
           "Royal Garden Hotel",
           "Good"
          ],
          [
           "Mulan Motel Taipei",
           "Good"
          ],
          [
           "Hotel Indigo Taipei North, an IHG Hotel",
           "Very Good"
          ],
          [
           "Grand Victoria Hotel",
           "Excellent"
          ],
          [
           "S Aura Hotel",
           "Very Good"
          ],
          [
           "Puremeworld Hotel",
           "Good"
          ],
          [
           "Archess Hotel",
           "Very Good"
          ],
          [
           "Yusense Hotel",
           "Excellent"
          ],
          [
           "Macchi Hotel - Taipei",
           "Very Good"
          ],
          [
           "Elegance Hotel",
           "Good"
          ],
          [
           "Guest Hotel",
           "Good"
          ],
          [
           "Green World SongShan",
           "Very Good"
          ],
          [
           "Hilton Taipei Sinban",
           "Very Good"
          ],
          [
           "Caesar Park Hotel Banqiao",
           "Excellent"
          ],
          [
           "HOTEL CHAM CHAM - Taipei",
           "Wonderful"
          ],
          [
           "Chengdian Hotel",
           "Good"
          ],
          [
           "Hub Hotel Banqiao Branch",
           "Very Good"
          ],
          [
           "Golden Hotel",
           "Good"
          ],
          [
           "Just Palace Hotel",
           "Excellent"
          ],
          [
           "Sofu Hotel",
           "Good"
          ],
          [
           "Chamotel - Lujhou",
           "Very Good"
          ],
          [
           "MRT Hotel",
           "Good"
          ],
          [
           "Single Inn - Taipei",
           "Good"
          ],
          [
           "Noble Hotel",
           "Good"
          ],
          [
           "Golden Age Hotel",
           "Good"
          ],
          [
           "Champion Hotel",
           "Good"
          ],
          [
           "Morwing Hotel Fuzhong",
           "Good"
          ],
          [
           "Purple Rainbow Motel",
           "Good"
          ],
          [
           "Morwing Hotel - Ocean",
           "Good"
          ],
          [
           "Sleep Taipei",
           "Review score"
          ],
          [
           "Merryday Hotel Banqiao",
           "Good"
          ],
          [
           "Forward Suites II",
           "Good"
          ],
          [
           "Grand Forward Hotel",
           "Excellent"
          ],
          [
           "Forward Suites Ⅰ",
           "Good"
          ],
          [
           "Grace Hotel",
           "Good"
          ],
          [
           "Love Tree Motel",
           "Good"
          ],
          [
           "Tianmu Star Urban Living",
           "Good"
          ],
          [
           "Ya Dou Hotel",
           "Review score"
          ],
          [
           "Sleep Taipei Hotel - Nanya",
           "Good"
          ],
          [
           "Dandy Hotel - Tianmu Branch",
           "Excellent"
          ],
          [
           "旅居文旅板橋驛站-湳雅夜市館Hub Hotel Banqiao inn-Nanya Night Market Branch",
           "Very Good"
          ],
          [
           "Walker Motel",
           "Good"
          ],
          [
           "La Maison Hotel",
           "Very Good"
          ],
          [
           "Hubhotel Benqiao Inn Far Eastern Branch",
           "Good"
          ],
          [
           "Uline Motel",
           "Review score"
          ],
          [
           "CHECK inn Taipei Neihu",
           "Good"
          ],
          [
           "CHECK inn Select Taipei Nangang",
           "Good"
          ],
          [
           "Discovery Motel - Nangang",
           "Review score"
          ],
          [
           "Royal Jade Boutique Hotel",
           "Very Good"
          ],
          [
           "Norway Forest Villa Motel",
           "Very Good"
          ],
          [
           "In-stone Motel",
           "Good"
          ],
          [
           "Beauty Hotels - Beautique Hotel",
           "Good"
          ],
          [
           "Mellow Fields Hotel",
           "Excellent"
          ],
          [
           "Aloft Taipei Beitou",
           "Very Good"
          ],
          [
           "Courtyard by Marriott Taipei",
           "Very Good"
          ],
          [
           "The Koos Hotel Dahu",
           "Very Good"
          ],
          [
           "May Rooms Taipei Nangang Station",
           "Good"
          ],
          [
           "Dahu Park Hotel",
           "Excellent"
          ],
          [
           "On My Way - Taipei Hostel",
           "Very Good"
          ],
          [
           "The Gaia Hotel - Taipei",
           "Very Good"
          ],
          [
           "Aqua Bella Hotel",
           "Very Good"
          ],
          [
           "Empire Hotel",
           "Review score"
          ],
          [
           "Phoenix Pavilion Hot Spring Hotel",
           "Very Good"
          ],
          [
           "Gorgeous Hot Spring Resort",
           "Good"
          ],
          [
           "Radium Kagaya Taipei",
           "Excellent"
          ],
          [
           "Kyokusui Hotspring Hotel",
           "Very Good"
          ],
          [
           "XDZ Hotel",
           "Very Good"
          ],
          [
           "Atami Hotel",
           "Review score"
          ],
          [
           "Water House",
           "Very Good"
          ],
          [
           "Chyuan Du Spring Resort",
           "Good"
          ],
          [
           "Spa Spring Resort",
           "Review score"
          ],
          [
           "Hotel Double One",
           "Good"
          ],
          [
           "Asia Pacific Hotel Beitou",
           "Very Good"
          ],
          [
           "Beautyage Spring Hotel",
           "Good"
          ],
          [
           "Spring City Resort",
           "Good"
          ],
          [
           "Grand View Resort Beitou",
           "Wonderful"
          ],
          [
           "Hotel Royal Beitou",
           "Very Good"
          ],
          [
           "American Village Resort",
           "Excellent"
          ],
          [
           "Shan-Yue Hotspring Hotel",
           "Good"
          ],
          [
           "Grand HiLai Taipei",
           "Very Good"
          ],
          [
           "Great Family Hotel",
           "Very Good"
          ],
          [
           "Jeanette Home",
           "Exceptional"
          ],
          [
           "CHECK inn Select Taipei Yamgmingshan",
           "Good"
          ],
          [
           "Yanmin Hot Spring Resort",
           "Good"
          ]
         ],
         "hovertemplate": "Name: %{customdata[0]}<br>Distance: %{y}<br>Price: %{x}<br>Comment: %{customdata[1]}",
         "legendgroup": "",
         "marker": {
          "color": [
           7.6,
           8.7,
           8.1,
           7.8,
           7.9,
           8.6,
           8,
           7.7,
           7.3,
           8,
           7.9,
           8.1,
           7.9,
           7.4,
           8.4,
           8.8,
           7.1,
           8.1,
           8.5,
           8.5,
           8.2,
           6.6,
           7.3,
           8.5,
           8,
           8.4,
           8.1,
           8.5,
           8.8,
           9.2,
           8.3,
           6.7,
           8.6,
           7.4,
           8.1,
           8,
           7.9,
           8.9,
           7.5,
           8.9,
           8.6,
           9,
           8.4,
           8.7,
           9.2,
           7.6,
           8.7,
           7.7,
           9.4,
           6.3,
           8.5,
           8.6,
           7.2,
           6.2,
           8.2,
           7.7,
           8,
           7.5,
           8.7,
           8.7,
           7.8,
           7.9,
           8.5,
           9,
           9,
           8.1,
           6.9,
           7.6,
           8.7,
           7.2,
           8.8,
           8.5,
           8.6,
           8.9,
           7.6,
           8.4,
           7.7,
           9,
           7.9,
           8.4,
           7.4,
           8.9,
           7.4,
           8.1,
           8.1,
           8.7,
           9.1,
           8,
           7.2,
           8.4,
           7.7,
           7.6,
           8.4,
           8,
           7.2,
           8,
           8.2,
           7.9,
           10,
           7.9,
           7.6,
           7.4,
           8.3,
           8.1,
           9,
           8.2,
           7.4,
           8,
           8.6,
           7.7,
           7.8,
           6.4,
           7.5,
           7.3,
           7.6,
           6.6,
           8.3,
           5.4,
           8.8,
           8.1,
           6.3,
           8.7,
           8.4,
           7.9,
           7.5,
           8.4,
           8.5,
           6.6,
           9.1,
           8.7,
           7.1,
           7.9,
           8.2,
           7.7,
           7.9,
           7.9,
           7.2,
           6.6,
           7.4,
           7.4,
           7.1,
           8.6,
           7.9,
           8.2,
           8.3,
           6.8,
           8.4,
           8,
           7.3,
           8.4,
           6.9,
           6.3,
           7,
           8,
           8.7,
           7.4,
           6.7,
           7.8,
           8.8,
           8,
           7.2,
           6.4,
           7,
           8.2,
           7.8,
           8.7,
           8.2,
           7.9,
           8.2,
           9.2,
           9.1,
           7.6,
           7.9,
           9,
           7.9,
           8.8,
           7.7,
           7.5,
           8.8,
           7.6,
           8.2,
           8.7,
           7.1,
           7.7,
           8.1,
           7.4,
           7.6,
           7.7,
           9,
           8.7,
           8.4,
           8.6,
           8.3,
           8.7,
           6.1,
           8.2,
           8.1,
           8.2,
           8.6,
           7.1,
           8.4,
           6,
           8.7,
           7.5,
           7.4,
           9.3,
           8.1,
           7.9,
           9.1,
           8.1,
           7.5,
           8.1,
           7.4,
           6.8,
           8.3,
           8.7,
           8.3,
           7.7,
           8.4,
           8.1,
           7.7,
           8.6,
           8.6,
           7.9,
           8.6,
           8.5,
           8.3,
           8.6,
           7.9,
           6.9,
           8.4,
           8.6,
           7.5,
           8.7,
           8.2,
           8.5,
           8.6,
           8.6,
           8.2,
           8.7,
           8.8,
           8.9,
           9.3,
           8.6,
           8.4,
           7.4,
           8.3,
           7.7,
           8.7,
           6.9,
           7.2,
           8,
           7.9,
           7.7,
           8.3,
           6.1,
           9.1,
           8.6,
           8.1,
           8.4,
           8.9,
           8.4,
           6.6,
           6.7,
           8,
           6.6,
           8.1,
           8.7,
           7.4,
           8,
           8.2,
           7.4,
           8.1,
           7.9,
           7.6,
           9,
           8.4,
           7.6,
           8.1,
           8.4,
           8.9,
           8.7,
           8.3,
           8.8,
           9.1,
           7.2,
           8.3,
           7.6,
           9.1,
           7,
           7.6,
           8.4,
           8.6,
           7.4,
           7.8,
           8.2,
           6.7,
           7.2,
           7.3,
           9.1,
           8.6,
           8.9,
           9,
           7.5,
           8.3,
           7.7,
           8.3,
           8.2,
           7.6,
           7.8,
           8,
           9.2,
           8.2,
           8.6,
           7.2,
           8.9,
           8.5,
           6.9,
           7.1,
           8.8,
           8,
           7.2,
           7.5,
           7.8,
           8.5,
           7.8,
           7.4,
           7.7,
           8.6,
           8.1,
           8.2,
           7.6,
           8.7,
           8.9,
           8.4,
           8.4,
           7.8,
           9.2,
           8.5,
           7.4,
           8.4,
           8.2,
           7.2,
           7.8,
           8.1,
           8.5,
           6.9,
           7.9,
           9.1,
           8,
           9.2,
           8.4,
           7.6,
           7.8,
           8,
           8.6,
           7.9,
           7.8,
           8.6,
           8.6,
           7.8,
           8.1,
           8.6,
           8.2,
           7.8,
           8,
           8,
           9.3,
           8.6,
           8.3,
           7.4,
           7,
           8.6,
           8.7,
           7,
           8.2,
           8.3,
           7.7,
           8.6,
           8,
           7.7,
           9.1,
           7.5,
           6.8,
           8.1,
           8.6,
           7,
           7.2,
           7.9,
           7.7,
           7.3,
           8.3,
           8.6,
           8.1,
           7.5,
           8.1,
           8.8,
           8,
           7.9,
           7.8,
           8.3,
           8.5,
           8.8,
           9,
           7.7,
           8.1,
           7.7,
           8.9,
           7.4,
           8.1,
           7.9,
           7.8,
           7.9,
           7.5,
           7.6,
           7.8,
           7.5,
           7.8,
           6.7,
           7.6,
           7.4,
           8.8,
           7.5,
           7.5,
           7.8,
           7.5,
           5.5,
           7,
           8.9,
           8,
           7.4,
           8.5,
           7.9,
           6.7,
           7.9,
           7.9,
           6.8,
           8.5,
           8.1,
           7.8,
           7.5,
           8.6,
           8,
           8.2,
           8,
           7.8,
           8.6,
           8.5,
           8.4,
           8.3,
           6.6,
           8.3,
           7.8,
           8.8,
           8.1,
           8.2,
           6.2,
           8,
           7.8,
           6.3,
           7.9,
           8.5,
           7.8,
           7.7,
           9.2,
           8.4,
           8.9,
           7.5,
           8.1,
           8.1,
           9.6,
           7.4,
           7.9
          ],
          "coloraxis": "coloraxis",
          "symbol": "circle"
         },
         "mode": "markers",
         "name": "",
         "orientation": "v",
         "showlegend": false,
         "type": "scatter",
         "x": [
          2340,
          2300,
          2640,
          4860,
          4085,
          6024,
          3140,
          4455,
          1800,
          3400,
          3990,
          2600,
          4250,
          2599,
          3422,
          5278,
          1890,
          3580,
          7076,
          6480,
          3577,
          1780,
          2421,
          3043,
          2830,
          3529,
          3016,
          8444,
          4107,
          2970,
          7800,
          2400,
          5535,
          3500,
          3978,
          3762,
          3685,
          7080,
          2500,
          4560,
          5152,
          4440,
          3928,
          5169,
          9760,
          2673,
          6090,
          3018,
          4374,
          2200,
          4755,
          5675,
          1990,
          2618,
          1920,
          2399,
          3175,
          1800,
          4865,
          5577,
          2588,
          1800,
          5520,
          10626,
          45000,
          3980,
          2333,
          4500,
          3450,
          2223,
          5460,
          4050,
          5670,
          6400,
          3639,
          4701,
          2600,
          6000,
          1980,
          5295,
          4122,
          9058,
          5382,
          4200,
          4984,
          4200,
          13530,
          4356,
          3060,
          3212,
          3880,
          2080,
          5808,
          3200,
          2380,
          3059,
          3867,
          8856,
          2680,
          1980,
          4833,
          2292,
          3600,
          3680,
          3207,
          4992,
          4176,
          8854,
          10530,
          3580,
          4000,
          3807,
          2800,
          1750,
          1458,
          1960,
          3544,
          2861,
          4100,
          4000,
          4500,
          16286,
          4118,
          3060,
          3041,
          4941,
          3116,
          3042,
          7607,
          4280,
          2800,
          2778,
          3500,
          4482,
          3716,
          3799,
          4000,
          4486,
          3800,
          2400,
          3000,
          4806,
          3280,
          3472,
          5922,
          1500,
          4558,
          3680,
          2860,
          2520,
          2459,
          2340,
          1900,
          3822,
          5040,
          5290,
          2980,
          3312,
          5220,
          3840,
          4761,
          3500,
          5200,
          8319,
          3629,
          7589,
          3200,
          2000,
          5695,
          3762,
          5280,
          4760,
          3840,
          8200,
          1957,
          6581,
          2790,
          1680,
          5081,
          6300,
          5238,
          2880,
          1900,
          4275,
          4089,
          2790,
          2138,
          2000,
          9120,
          3625,
          4299,
          7000,
          2880,
          10899,
          2588,
          5010,
          3780,
          3080,
          5250,
          1980,
          5415,
          2280,
          7392,
          2850,
          1945,
          3906,
          3360,
          3741,
          4392,
          2952,
          3530,
          5281,
          2780,
          3097,
          4200,
          5700,
          3514,
          1646,
          4800,
          2574,
          2250,
          3765,
          3848,
          4500,
          6987,
          6500,
          3162,
          7280,
          2800,
          2500,
          3137,
          6014,
          2852,
          8820,
          3800,
          4320,
          3754,
          4655,
          3912,
          1700,
          7200,
          8237,
          6536,
          3360,
          5382,
          3600,
          4447,
          2906,
          4800,
          2420,
          3340,
          1500,
          2900,
          2449,
          5800,
          2080,
          7000,
          3180,
          3443,
          3492,
          8910,
          5591,
          2336,
          1480,
          6640,
          2236,
          4280,
          5850,
          2412,
          3400,
          3040,
          3423,
          1686,
          5300,
          2482,
          5365,
          6000,
          2475,
          3000,
          4499,
          4650,
          4320,
          3180,
          6747,
          10371,
          3577,
          3200,
          1860,
          11977,
          1150,
          3400,
          3978,
          5680,
          1113,
          4500,
          5850,
          2683,
          3751,
          3864,
          5600,
          6158,
          5445,
          9002,
          2647,
          6426,
          4186,
          6584,
          4455,
          6175,
          3600,
          1880,
          23000,
          8316,
          2750,
          3815,
          6800,
          6820,
          2180,
          4880,
          8151,
          4416,
          2646,
          2751,
          3403,
          3800,
          3806,
          2888,
          6500,
          9621,
          3780,
          5000,
          4942,
          6426,
          6747,
          3840,
          3870,
          4675,
          12976,
          5358,
          2537,
          5953,
          3600,
          3880,
          1618,
          1847,
          4680,
          3130,
          2218,
          4135,
          3511,
          11400,
          13317,
          3130,
          2500,
          2806,
          4463,
          5184,
          3312,
          3100,
          25500,
          3980,
          4500,
          10395,
          17900,
          3350,
          3380,
          8840,
          8153,
          2089,
          4183,
          2980,
          2600,
          3242,
          3420,
          1500,
          4700,
          4860,
          2412,
          8100,
          3135,
          3500,
          7433,
          1984,
          2753,
          2680,
          3593,
          1658,
          1700,
          3790,
          2280,
          3816,
          7069,
          5267,
          6600,
          2609,
          2880,
          5880,
          2772,
          2880,
          2480,
          5400,
          6930,
          5000,
          4500,
          2500,
          3780,
          3280,
          5000,
          1685,
          1780,
          3500,
          2790,
          2790,
          1999,
          2280,
          2280,
          2700,
          2282,
          2980,
          3760,
          3100,
          5148,
          3300,
          3496,
          2480,
          2900,
          1980,
          2412,
          5958,
          3380,
          2784,
          2907,
          2980,
          2980,
          3912,
          3577,
          3267,
          2400,
          2980,
          2552,
          4320,
          3111,
          4100,
          7000,
          2600,
          2295,
          3524,
          1556,
          25800,
          5600,
          1967,
          8640,
          3848,
          18695,
          4780,
          2400,
          2520,
          6726,
          3500,
          4780,
          6715,
          10450,
          3960,
          7200,
          32032,
          13050,
          16800,
          3200,
          7472,
          2480,
          3970,
          6036,
          6800
         ],
         "xaxis": "x",
         "y": [
          0.1,
          0.15,
          0.15,
          0.2,
          0.2,
          0.2,
          0.2,
          0.2,
          0.2,
          0.2,
          0.3,
          0.3,
          0.3,
          0.35,
          0.35,
          0.35,
          0.35,
          0.35,
          0.4,
          0.4,
          0.4,
          0.45,
          0.45,
          0.45,
          0.45,
          0.45,
          0.45,
          0.45,
          0.5,
          0.5,
          0.5,
          0.5,
          0.5,
          0.5,
          0.5,
          0.5,
          0.5,
          0.5,
          0.5,
          0.5,
          0.5,
          0.6,
          0.6,
          0.6,
          0.6,
          0.6,
          0.6,
          0.6,
          0.6,
          0.6,
          0.7,
          0.7,
          0.7,
          0.7,
          0.7,
          0.7,
          0.7,
          0.7,
          0.7,
          0.7,
          0.7,
          0.8,
          0.8,
          0.8,
          0.8,
          0.8,
          0.8,
          0.8,
          0.8,
          0.8,
          0.8,
          0.8,
          0.8,
          0.8,
          0.8,
          0.8,
          0.8,
          0.8,
          0.8,
          0.8,
          0.9,
          0.9,
          0.9,
          0.9,
          0.9,
          0.9,
          0.9,
          0.9,
          0.9,
          0.9,
          0.9,
          0.9,
          1,
          1,
          1,
          1,
          1,
          1,
          1,
          1,
          1,
          1,
          1,
          1,
          1,
          1,
          1,
          1,
          1,
          1,
          1,
          1,
          1,
          1.1,
          1.1,
          1.1,
          1.1,
          1.1,
          1.1,
          1.1,
          1.1,
          1.1,
          1.1,
          1.1,
          1.1,
          1.1,
          1.1,
          1.1,
          1.1,
          1.1,
          1.1,
          1.1,
          1.2,
          1.2,
          1.2,
          1.2,
          1.2,
          1.2,
          1.2,
          1.2,
          1.2,
          1.2,
          1.2,
          1.2,
          1.2,
          1.2,
          1.2,
          1.2,
          1.2,
          1.2,
          1.2,
          1.2,
          1.2,
          1.3,
          1.3,
          1.3,
          1.3,
          1.3,
          1.3,
          1.3,
          1.3,
          1.3,
          1.3,
          1.3,
          1.3,
          1.3,
          1.3,
          1.3,
          1.3,
          1.3,
          1.4,
          1.4,
          1.4,
          1.4,
          1.4,
          1.4,
          1.4,
          1.4,
          1.4,
          1.4,
          1.4,
          1.4,
          1.4,
          1.4,
          1.4,
          1.5,
          1.5,
          1.5,
          1.5,
          1.5,
          1.5,
          1.5,
          1.5,
          1.5,
          1.5,
          1.5,
          1.6,
          1.6,
          1.6,
          1.6,
          1.6,
          1.6,
          1.6,
          1.6,
          1.7,
          1.7,
          1.7,
          1.7,
          1.7,
          1.7,
          1.8,
          1.8,
          1.8,
          1.8,
          1.8,
          1.8,
          1.8,
          1.9,
          1.9,
          1.9,
          1.9,
          1.9,
          2,
          2,
          2,
          2,
          2,
          2,
          2,
          2.1,
          2.1,
          2.1,
          2.1,
          2.1,
          2.1,
          2.1,
          2.1,
          2.1,
          2.2,
          2.2,
          2.2,
          2.2,
          2.2,
          2.2,
          2.2,
          2.3,
          2.3,
          2.3,
          2.3,
          2.3,
          2.3,
          2.3,
          2.3,
          2.3,
          2.3,
          2.3,
          2.4,
          2.4,
          2.4,
          2.5,
          2.5,
          2.5,
          2.5,
          2.5,
          2.5,
          2.5,
          2.5,
          2.6,
          2.6,
          2.6,
          2.6,
          2.6,
          2.6,
          2.6,
          2.7,
          2.7,
          2.7,
          2.7,
          2.7,
          2.7,
          2.8,
          2.8,
          2.8,
          2.9,
          2.9,
          2.9,
          2.9,
          2.9,
          2.9,
          2.9,
          2.9,
          2.9,
          3,
          3,
          3,
          3,
          3,
          3,
          3,
          3,
          3.1,
          3.1,
          3.1,
          3.1,
          3.1,
          3.1,
          3.2,
          3.2,
          3.2,
          3.3,
          3.3,
          3.3,
          3.4,
          3.4,
          3.4,
          3.5,
          3.5,
          3.5,
          3.5,
          3.5,
          3.6,
          3.6,
          3.6,
          3.6,
          3.6,
          3.7,
          3.8,
          3.8,
          3.9,
          3.9,
          4,
          4.1,
          4.1,
          4.1,
          4.1,
          4.2,
          4.2,
          4.3,
          4.3,
          4.3,
          4.3,
          4.4,
          4.4,
          4.4,
          4.4,
          4.4,
          4.5,
          4.6,
          4.6,
          4.6,
          4.7,
          4.7,
          4.7,
          4.7,
          4.8,
          4.8,
          4.8,
          4.8,
          4.8,
          4.9,
          5,
          5.1,
          5.1,
          5.2,
          5.2,
          5.2,
          5.2,
          5.2,
          5.3,
          5.3,
          5.3,
          5.4,
          5.4,
          5.5,
          5.5,
          5.6,
          5.6,
          5.6,
          5.7,
          5.7,
          5.7,
          5.7,
          5.7,
          5.7,
          5.8,
          5.8,
          5.8,
          5.8,
          5.9,
          5.9,
          5.9,
          5.9,
          5.9,
          6,
          6.1,
          6.3,
          6.4,
          6.5,
          6.5,
          6.5,
          6.7,
          6.7,
          6.7,
          6.8,
          6.8,
          6.9,
          6.9,
          7,
          7,
          7.1,
          7.1,
          7.1,
          7.1,
          7.1,
          7.2,
          7.2,
          7.2,
          7.3,
          7.3,
          7.3,
          7.3,
          7.3,
          7.4,
          7.4,
          7.5,
          7.5,
          7.6,
          7.6,
          7.7,
          7.8,
          7.8,
          7.9,
          8,
          8,
          8,
          8,
          8.1,
          8.2,
          8.3,
          8.4,
          8.4,
          8.6,
          8.9,
          9,
          9.3,
          9.4,
          9.4,
          9.8,
          9.9,
          10,
          10,
          10,
          10,
          10,
          0.0101,
          0.0101,
          0.0101,
          0.0101,
          0.0101,
          0.0101,
          0.0101,
          0.0101,
          0.0101,
          0.010199999999999999,
          0.010199999999999999,
          0.010199999999999999,
          0.0103,
          0.0103,
          0.0103,
          0.0104,
          0.0104,
          0.011300000000000001,
          0.0125
         ],
         "yaxis": "y"
        }
       ],
       "layout": {
        "coloraxis": {
         "colorbar": {
          "title": {
           "text": "rating"
          }
         },
         "colorscale": [
          [
           0,
           "#0d0887"
          ],
          [
           0.1111111111111111,
           "#46039f"
          ],
          [
           0.2222222222222222,
           "#7201a8"
          ],
          [
           0.3333333333333333,
           "#9c179e"
          ],
          [
           0.4444444444444444,
           "#bd3786"
          ],
          [
           0.5555555555555556,
           "#d8576b"
          ],
          [
           0.6666666666666666,
           "#ed7953"
          ],
          [
           0.7777777777777778,
           "#fb9f3a"
          ],
          [
           0.8888888888888888,
           "#fdca26"
          ],
          [
           1,
           "#f0f921"
          ]
         ]
        },
        "legend": {
         "tracegroupgap": 0
        },
        "margin": {
         "t": 60
        },
        "template": {
         "data": {
          "bar": [
           {
            "error_x": {
             "color": "#2a3f5f"
            },
            "error_y": {
             "color": "#2a3f5f"
            },
            "marker": {
             "line": {
              "color": "#E5ECF6",
              "width": 0.5
             },
             "pattern": {
              "fillmode": "overlay",
              "size": 10,
              "solidity": 0.2
             }
            },
            "type": "bar"
           }
          ],
          "barpolar": [
           {
            "marker": {
             "line": {
              "color": "#E5ECF6",
              "width": 0.5
             },
             "pattern": {
              "fillmode": "overlay",
              "size": 10,
              "solidity": 0.2
             }
            },
            "type": "barpolar"
           }
          ],
          "carpet": [
           {
            "aaxis": {
             "endlinecolor": "#2a3f5f",
             "gridcolor": "white",
             "linecolor": "white",
             "minorgridcolor": "white",
             "startlinecolor": "#2a3f5f"
            },
            "baxis": {
             "endlinecolor": "#2a3f5f",
             "gridcolor": "white",
             "linecolor": "white",
             "minorgridcolor": "white",
             "startlinecolor": "#2a3f5f"
            },
            "type": "carpet"
           }
          ],
          "choropleth": [
           {
            "colorbar": {
             "outlinewidth": 0,
             "ticks": ""
            },
            "type": "choropleth"
           }
          ],
          "contour": [
           {
            "colorbar": {
             "outlinewidth": 0,
             "ticks": ""
            },
            "colorscale": [
             [
              0,
              "#0d0887"
             ],
             [
              0.1111111111111111,
              "#46039f"
             ],
             [
              0.2222222222222222,
              "#7201a8"
             ],
             [
              0.3333333333333333,
              "#9c179e"
             ],
             [
              0.4444444444444444,
              "#bd3786"
             ],
             [
              0.5555555555555556,
              "#d8576b"
             ],
             [
              0.6666666666666666,
              "#ed7953"
             ],
             [
              0.7777777777777778,
              "#fb9f3a"
             ],
             [
              0.8888888888888888,
              "#fdca26"
             ],
             [
              1,
              "#f0f921"
             ]
            ],
            "type": "contour"
           }
          ],
          "contourcarpet": [
           {
            "colorbar": {
             "outlinewidth": 0,
             "ticks": ""
            },
            "type": "contourcarpet"
           }
          ],
          "heatmap": [
           {
            "colorbar": {
             "outlinewidth": 0,
             "ticks": ""
            },
            "colorscale": [
             [
              0,
              "#0d0887"
             ],
             [
              0.1111111111111111,
              "#46039f"
             ],
             [
              0.2222222222222222,
              "#7201a8"
             ],
             [
              0.3333333333333333,
              "#9c179e"
             ],
             [
              0.4444444444444444,
              "#bd3786"
             ],
             [
              0.5555555555555556,
              "#d8576b"
             ],
             [
              0.6666666666666666,
              "#ed7953"
             ],
             [
              0.7777777777777778,
              "#fb9f3a"
             ],
             [
              0.8888888888888888,
              "#fdca26"
             ],
             [
              1,
              "#f0f921"
             ]
            ],
            "type": "heatmap"
           }
          ],
          "heatmapgl": [
           {
            "colorbar": {
             "outlinewidth": 0,
             "ticks": ""
            },
            "colorscale": [
             [
              0,
              "#0d0887"
             ],
             [
              0.1111111111111111,
              "#46039f"
             ],
             [
              0.2222222222222222,
              "#7201a8"
             ],
             [
              0.3333333333333333,
              "#9c179e"
             ],
             [
              0.4444444444444444,
              "#bd3786"
             ],
             [
              0.5555555555555556,
              "#d8576b"
             ],
             [
              0.6666666666666666,
              "#ed7953"
             ],
             [
              0.7777777777777778,
              "#fb9f3a"
             ],
             [
              0.8888888888888888,
              "#fdca26"
             ],
             [
              1,
              "#f0f921"
             ]
            ],
            "type": "heatmapgl"
           }
          ],
          "histogram": [
           {
            "marker": {
             "pattern": {
              "fillmode": "overlay",
              "size": 10,
              "solidity": 0.2
             }
            },
            "type": "histogram"
           }
          ],
          "histogram2d": [
           {
            "colorbar": {
             "outlinewidth": 0,
             "ticks": ""
            },
            "colorscale": [
             [
              0,
              "#0d0887"
             ],
             [
              0.1111111111111111,
              "#46039f"
             ],
             [
              0.2222222222222222,
              "#7201a8"
             ],
             [
              0.3333333333333333,
              "#9c179e"
             ],
             [
              0.4444444444444444,
              "#bd3786"
             ],
             [
              0.5555555555555556,
              "#d8576b"
             ],
             [
              0.6666666666666666,
              "#ed7953"
             ],
             [
              0.7777777777777778,
              "#fb9f3a"
             ],
             [
              0.8888888888888888,
              "#fdca26"
             ],
             [
              1,
              "#f0f921"
             ]
            ],
            "type": "histogram2d"
           }
          ],
          "histogram2dcontour": [
           {
            "colorbar": {
             "outlinewidth": 0,
             "ticks": ""
            },
            "colorscale": [
             [
              0,
              "#0d0887"
             ],
             [
              0.1111111111111111,
              "#46039f"
             ],
             [
              0.2222222222222222,
              "#7201a8"
             ],
             [
              0.3333333333333333,
              "#9c179e"
             ],
             [
              0.4444444444444444,
              "#bd3786"
             ],
             [
              0.5555555555555556,
              "#d8576b"
             ],
             [
              0.6666666666666666,
              "#ed7953"
             ],
             [
              0.7777777777777778,
              "#fb9f3a"
             ],
             [
              0.8888888888888888,
              "#fdca26"
             ],
             [
              1,
              "#f0f921"
             ]
            ],
            "type": "histogram2dcontour"
           }
          ],
          "mesh3d": [
           {
            "colorbar": {
             "outlinewidth": 0,
             "ticks": ""
            },
            "type": "mesh3d"
           }
          ],
          "parcoords": [
           {
            "line": {
             "colorbar": {
              "outlinewidth": 0,
              "ticks": ""
             }
            },
            "type": "parcoords"
           }
          ],
          "pie": [
           {
            "automargin": true,
            "type": "pie"
           }
          ],
          "scatter": [
           {
            "fillpattern": {
             "fillmode": "overlay",
             "size": 10,
             "solidity": 0.2
            },
            "type": "scatter"
           }
          ],
          "scatter3d": [
           {
            "line": {
             "colorbar": {
              "outlinewidth": 0,
              "ticks": ""
             }
            },
            "marker": {
             "colorbar": {
              "outlinewidth": 0,
              "ticks": ""
             }
            },
            "type": "scatter3d"
           }
          ],
          "scattercarpet": [
           {
            "marker": {
             "colorbar": {
              "outlinewidth": 0,
              "ticks": ""
             }
            },
            "type": "scattercarpet"
           }
          ],
          "scattergeo": [
           {
            "marker": {
             "colorbar": {
              "outlinewidth": 0,
              "ticks": ""
             }
            },
            "type": "scattergeo"
           }
          ],
          "scattergl": [
           {
            "marker": {
             "colorbar": {
              "outlinewidth": 0,
              "ticks": ""
             }
            },
            "type": "scattergl"
           }
          ],
          "scattermapbox": [
           {
            "marker": {
             "colorbar": {
              "outlinewidth": 0,
              "ticks": ""
             }
            },
            "type": "scattermapbox"
           }
          ],
          "scatterpolar": [
           {
            "marker": {
             "colorbar": {
              "outlinewidth": 0,
              "ticks": ""
             }
            },
            "type": "scatterpolar"
           }
          ],
          "scatterpolargl": [
           {
            "marker": {
             "colorbar": {
              "outlinewidth": 0,
              "ticks": ""
             }
            },
            "type": "scatterpolargl"
           }
          ],
          "scatterternary": [
           {
            "marker": {
             "colorbar": {
              "outlinewidth": 0,
              "ticks": ""
             }
            },
            "type": "scatterternary"
           }
          ],
          "surface": [
           {
            "colorbar": {
             "outlinewidth": 0,
             "ticks": ""
            },
            "colorscale": [
             [
              0,
              "#0d0887"
             ],
             [
              0.1111111111111111,
              "#46039f"
             ],
             [
              0.2222222222222222,
              "#7201a8"
             ],
             [
              0.3333333333333333,
              "#9c179e"
             ],
             [
              0.4444444444444444,
              "#bd3786"
             ],
             [
              0.5555555555555556,
              "#d8576b"
             ],
             [
              0.6666666666666666,
              "#ed7953"
             ],
             [
              0.7777777777777778,
              "#fb9f3a"
             ],
             [
              0.8888888888888888,
              "#fdca26"
             ],
             [
              1,
              "#f0f921"
             ]
            ],
            "type": "surface"
           }
          ],
          "table": [
           {
            "cells": {
             "fill": {
              "color": "#EBF0F8"
             },
             "line": {
              "color": "white"
             }
            },
            "header": {
             "fill": {
              "color": "#C8D4E3"
             },
             "line": {
              "color": "white"
             }
            },
            "type": "table"
           }
          ]
         },
         "layout": {
          "annotationdefaults": {
           "arrowcolor": "#2a3f5f",
           "arrowhead": 0,
           "arrowwidth": 1
          },
          "autotypenumbers": "strict",
          "coloraxis": {
           "colorbar": {
            "outlinewidth": 0,
            "ticks": ""
           }
          },
          "colorscale": {
           "diverging": [
            [
             0,
             "#8e0152"
            ],
            [
             0.1,
             "#c51b7d"
            ],
            [
             0.2,
             "#de77ae"
            ],
            [
             0.3,
             "#f1b6da"
            ],
            [
             0.4,
             "#fde0ef"
            ],
            [
             0.5,
             "#f7f7f7"
            ],
            [
             0.6,
             "#e6f5d0"
            ],
            [
             0.7,
             "#b8e186"
            ],
            [
             0.8,
             "#7fbc41"
            ],
            [
             0.9,
             "#4d9221"
            ],
            [
             1,
             "#276419"
            ]
           ],
           "sequential": [
            [
             0,
             "#0d0887"
            ],
            [
             0.1111111111111111,
             "#46039f"
            ],
            [
             0.2222222222222222,
             "#7201a8"
            ],
            [
             0.3333333333333333,
             "#9c179e"
            ],
            [
             0.4444444444444444,
             "#bd3786"
            ],
            [
             0.5555555555555556,
             "#d8576b"
            ],
            [
             0.6666666666666666,
             "#ed7953"
            ],
            [
             0.7777777777777778,
             "#fb9f3a"
            ],
            [
             0.8888888888888888,
             "#fdca26"
            ],
            [
             1,
             "#f0f921"
            ]
           ],
           "sequentialminus": [
            [
             0,
             "#0d0887"
            ],
            [
             0.1111111111111111,
             "#46039f"
            ],
            [
             0.2222222222222222,
             "#7201a8"
            ],
            [
             0.3333333333333333,
             "#9c179e"
            ],
            [
             0.4444444444444444,
             "#bd3786"
            ],
            [
             0.5555555555555556,
             "#d8576b"
            ],
            [
             0.6666666666666666,
             "#ed7953"
            ],
            [
             0.7777777777777778,
             "#fb9f3a"
            ],
            [
             0.8888888888888888,
             "#fdca26"
            ],
            [
             1,
             "#f0f921"
            ]
           ]
          },
          "colorway": [
           "#636efa",
           "#EF553B",
           "#00cc96",
           "#ab63fa",
           "#FFA15A",
           "#19d3f3",
           "#FF6692",
           "#B6E880",
           "#FF97FF",
           "#FECB52"
          ],
          "font": {
           "color": "#2a3f5f"
          },
          "geo": {
           "bgcolor": "white",
           "lakecolor": "white",
           "landcolor": "#E5ECF6",
           "showlakes": true,
           "showland": true,
           "subunitcolor": "white"
          },
          "hoverlabel": {
           "align": "left"
          },
          "hovermode": "closest",
          "mapbox": {
           "style": "light"
          },
          "paper_bgcolor": "white",
          "plot_bgcolor": "#E5ECF6",
          "polar": {
           "angularaxis": {
            "gridcolor": "white",
            "linecolor": "white",
            "ticks": ""
           },
           "bgcolor": "#E5ECF6",
           "radialaxis": {
            "gridcolor": "white",
            "linecolor": "white",
            "ticks": ""
           }
          },
          "scene": {
           "xaxis": {
            "backgroundcolor": "#E5ECF6",
            "gridcolor": "white",
            "gridwidth": 2,
            "linecolor": "white",
            "showbackground": true,
            "ticks": "",
            "zerolinecolor": "white"
           },
           "yaxis": {
            "backgroundcolor": "#E5ECF6",
            "gridcolor": "white",
            "gridwidth": 2,
            "linecolor": "white",
            "showbackground": true,
            "ticks": "",
            "zerolinecolor": "white"
           },
           "zaxis": {
            "backgroundcolor": "#E5ECF6",
            "gridcolor": "white",
            "gridwidth": 2,
            "linecolor": "white",
            "showbackground": true,
            "ticks": "",
            "zerolinecolor": "white"
           }
          },
          "shapedefaults": {
           "line": {
            "color": "#2a3f5f"
           }
          },
          "ternary": {
           "aaxis": {
            "gridcolor": "white",
            "linecolor": "white",
            "ticks": ""
           },
           "baxis": {
            "gridcolor": "white",
            "linecolor": "white",
            "ticks": ""
           },
           "bgcolor": "#E5ECF6",
           "caxis": {
            "gridcolor": "white",
            "linecolor": "white",
            "ticks": ""
           }
          },
          "title": {
           "x": 0.05
          },
          "xaxis": {
           "automargin": true,
           "gridcolor": "white",
           "linecolor": "white",
           "ticks": "",
           "title": {
            "standoff": 15
           },
           "zerolinecolor": "white",
           "zerolinewidth": 2
          },
          "yaxis": {
           "automargin": true,
           "gridcolor": "white",
           "linecolor": "white",
           "ticks": "",
           "title": {
            "standoff": 15
           },
           "zerolinecolor": "white",
           "zerolinewidth": 2
          }
         }
        },
        "xaxis": {
         "anchor": "y",
         "domain": [
          0,
          1
         ],
         "title": {
          "text": "price"
         }
        },
        "yaxis": {
         "anchor": "x",
         "domain": [
          0,
          1
         ],
         "title": {
          "text": "distance"
         }
        }
       }
      }
     },
     "metadata": {},
     "output_type": "display_data"
    }
   ],
   "source": [
    "\n",
    "fig = px.scatter(df, x='price', y='distance', hover_data=['name','comment'], color='rating')\n",
    "fig.update_traces(hovertemplate='Name: %{customdata[0]}<br>Distance: %{y}<br>Price: %{x}<br>Comment: %{customdata[1]}')\n",
    "fig.show()\n"
   ]
  }
 ],
 "metadata": {
  "kernelspec": {
   "display_name": "base",
   "language": "python",
   "name": "python3"
  },
  "language_info": {
   "codemirror_mode": {
    "name": "ipython",
    "version": 3
   },
   "file_extension": ".py",
   "mimetype": "text/x-python",
   "name": "python",
   "nbconvert_exporter": "python",
   "pygments_lexer": "ipython3",
   "version": "3.9.13"
  },
  "orig_nbformat": 4
 },
 "nbformat": 4,
 "nbformat_minor": 2
}
